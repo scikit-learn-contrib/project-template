{
  "cells": [
    {
      "cell_type": "markdown",
      "metadata": {},
      "source": [
        "\n# Plotting Template Transformer\n\nAn example plot of :class:`skltemplate.template.TemplateTransformer`\n"
      ]
    },
    {
      "cell_type": "code",
      "execution_count": null,
      "metadata": {
        "collapsed": false
      },
      "outputs": [],
      "source": [
        "import numpy as np\nfrom matplotlib import pyplot as plt\n\nfrom skltemplate import TemplateTransformer\n\nX = np.arange(50, dtype=np.float64).reshape(-1, 1)\nX /= 50\nestimator = TemplateTransformer()\nX_transformed = estimator.fit_transform(X)\n\nplt.plot(X.flatten(), label=\"Original Data\")\nplt.plot(X_transformed.flatten(), label=\"Transformed Data\")\nplt.title(\"Plots of original and transformed data\")\n\nplt.legend(loc=\"best\")\nplt.grid(True)\nplt.xlabel(\"Index\")\nplt.ylabel(\"Value of Data\")\n\nplt.show()"
      ]
    }
  ],
  "metadata": {
    "kernelspec": {
      "display_name": "Python 3",
      "language": "python",
      "name": "python3"
    },
    "language_info": {
      "codemirror_mode": {
        "name": "ipython",
        "version": 3
      },
      "file_extension": ".py",
      "mimetype": "text/x-python",
      "name": "python",
      "nbconvert_exporter": "python",
      "pygments_lexer": "ipython3",
      "version": "3.12.3"
    }
  },
  "nbformat": 4,
  "nbformat_minor": 0
}