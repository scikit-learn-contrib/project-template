{
  "cells": [
    {
      "cell_type": "markdown",
      "metadata": {},
      "source": [
        "\n# Plotting Template Classifier\n\nAn example plot of :class:`skltemplate.template.TemplateClassifier`\n"
      ]
    },
    {
      "cell_type": "code",
      "execution_count": null,
      "metadata": {
        "collapsed": false
      },
      "outputs": [],
      "source": [
        "import numpy as np\nfrom matplotlib import pyplot as plt\nfrom skltemplate import TemplateClassifier\n\nX = [[0, 0], [1, 1]]\ny = [0, 1]\nclf = TemplateClassifier()\nclf.fit(X, y)\n\nrng = np.random.RandomState(13)\nX_test = rng.rand(500, 2)\ny_pred = clf.predict(X_test)\n\nX_0 = X_test[y_pred == 0]\nX_1 = X_test[y_pred == 1]\n\n\np0 = plt.scatter(0, 0, c='red', s=100)\np1 = plt.scatter(1, 1, c='blue', s=100)\n\nax0 = plt.scatter(X_0[:, 0], X_0[:, 1], c='crimson', s=50)\nax1 = plt.scatter(X_1[:, 0], X_1[:, 1], c='deepskyblue', s=50)\n\nleg = plt.legend([p0, p1, ax0, ax1],\n                 ['Point 0', 'Point 1', 'Class 0', 'Class 1'],\n                 loc='upper left', fancybox=True, scatterpoints=1)\nleg.get_frame().set_alpha(0.5)\n\nplt.xlabel('Feature 1')\nplt.ylabel('Feature 2')\nplt.xlim([-.5, 1.5])\n\nplt.show()"
      ]
    }
  ],
  "metadata": {
    "kernelspec": {
      "display_name": "Python 3",
      "language": "python",
      "name": "python3"
    },
    "language_info": {
      "codemirror_mode": {
        "name": "ipython",
        "version": 3
      },
      "file_extension": ".py",
      "mimetype": "text/x-python",
      "name": "python",
      "nbconvert_exporter": "python",
      "pygments_lexer": "ipython3",
      "version": "3.12.3"
    }
  },
  "nbformat": 4,
  "nbformat_minor": 0
}